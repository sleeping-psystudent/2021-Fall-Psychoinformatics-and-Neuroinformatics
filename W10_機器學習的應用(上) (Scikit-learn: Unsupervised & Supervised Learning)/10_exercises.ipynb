{
 "cells": [
  {
   "cell_type": "markdown",
   "metadata": {},
   "source": [
    "# Psychoinformatics - Week 10 (Exercises)\n",
    "李采蓉 (b08207042@ntu.edu.tw)"
   ]
  },
  {
   "cell_type": "code",
   "execution_count": 2,
   "metadata": {},
   "outputs": [],
   "source": [
    "import numpy as np\n",
    "from sklearn import *\n",
    "from sklearn import model_selection\n",
    "from matplotlib.pyplot import *\n",
    "%matplotlib inline"
   ]
  },
  {
   "cell_type": "markdown",
   "metadata": {},
   "source": [
    "## 1 檢查 machine learning pipeline (8 points)"
   ]
  },
  {
   "cell_type": "markdown",
   "metadata": {},
   "source": [
    "### 1.1 請打亂原本的Y觀察正確率是否和chance level (0.33)有差異? 若有, why? (4 points)"
   ]
  },
  {
   "cell_type": "code",
   "execution_count": 55,
   "metadata": {},
   "outputs": [
    {
     "name": "stdout",
     "output_type": "stream",
     "text": [
      "[0 0 0 0 0 0 0 0 0 0 0 0 0 0 0 0 0 0 0 0 0 0 0 0 0 0 0 0 0 0 0 0 0 0 0 0 0\n",
      " 0 0 0 0 0 0 0 0 0 0 0 0 0 1 1 1 1 1 1 1 1 1 1 1 1 1 1 1 1 1 1 1 1 1 1 1 1\n",
      " 1 1 1 1 1 1 1 1 1 1 1 1 1 1 1 1 1 1 1 1 1 1 1 1 1 1 2 2 2 2 2 2 2 2 2 2 2\n",
      " 2 2 2 2 2 2 2 2 2 2 2 2 2 2 2 2 2 2 2 2 2 2 2 2 2 2 2 2 2 2 2 2 2 2 2 2 2\n",
      " 2 2]\n",
      "0.96\n"
     ]
    }
   ],
   "source": [
    "# 本題在研究打亂X和打亂Y有差別嗎?\n",
    "iris = datasets.load_iris()\n",
    "X=iris.data\n",
    "Y=iris.target\n",
    "print(Y)\n",
    "clf=neighbors.KNeighborsClassifier(3)\n",
    "clf.fit(X,Y)\n",
    "accuracy=np.mean(clf.predict(X)==Y)\n",
    "print(accuracy)"
   ]
  },
  {
   "cell_type": "code",
   "execution_count": 56,
   "metadata": {},
   "outputs": [
    {
     "name": "stdout",
     "output_type": "stream",
     "text": [
      "[1 0 0 1 1 2 1 2 1 0 2 1 1 0 1 0 2 2 1 0 2 2 2 1 2 2 0 0 2 1 1 0 2 0 1 2 0\n",
      " 1 1 0 1 1 1 1 2 0 2 0 2 1 2 0 0 2 2 1 0 0 0 1 2 0 1 0 0 1 1 2 0 2 0 2 1 1\n",
      " 0 2 1 1 2 0 0 2 0 0 1 0 0 2 0 1 0 0 2 2 2 1 0 0 1 2 2 0 2 0 2 1 0 1 1 1 0\n",
      " 1 2 2 1 0 2 0 1 0 1 0 1 1 2 1 0 0 0 2 2 1 2 2 0 0 2 2 1 1 2 0 2 1 2 1 2 2\n",
      " 2 1]\n",
      "0.6466666666666666\n"
     ]
    }
   ],
   "source": [
    "# 打亂\n",
    "from random import shuffle\n",
    "shuffle(Y)\n",
    "print(Y)\n",
    "clf=neighbors.KNeighborsClassifier(3)\n",
    "clf.fit(X,Y)\n",
    "accuracy=np.mean(clf.predict(X)==Y)\n",
    "print(accuracy)"
   ]
  },
  {
   "cell_type": "markdown",
   "metadata": {},
   "source": [
    "kNN主要是跟左右鄰居做比對來進行模型訓練，neighbors.KNeighborsClassifier(n)這裡的n主要是指欲比較的鄰居數，在上格中我們設定$n=3$。在此情況中，取最近3位鄰居，已知只要超過(含)2位鄰居是相同數字就可以定調一個位置該放甚麼數字。\n",
    "\n",
    "假設今天A位置的數字預測正確，那麼一定是有至少兩個數字是相同且跟預測值一樣，每一位鄰居皆可能為(0, 1, 2)其一，而三種數字出現機率相等。以$\\frac{2}{3}$代表鄰居錯誤的機率，這種情況下可列式：$\\displaystyle{1-(1\\cdot\\frac{2}{3}\\cdot\\frac{2}{3})=\\frac{5}{9}}$。但同時我們還需考量到其他種可能，因此列式$\\displaystyle{\\frac{1}{3}\\cdot\\frac{2}{3}\\cdot\\frac{1}{3} = \\frac{2}{27}}$，兩者相加得到$\\displaystyle{\\frac{17}{27}\\approx0.6296}$\n",
    "\n",
    "照如此說法，在$n=150$時，準確率便會降到$\\frac{1}{3}$左右，與chance level(0.33)並無差異。"
   ]
  },
  {
   "cell_type": "markdown",
   "metadata": {},
   "source": [
    "### 1.2 請用母數或無母數統計檢定以下accuracies中的結果是否和chance level (0.5)有差異? 若有, why? (4 points)"
   ]
  },
  {
   "cell_type": "code",
   "execution_count": 57,
   "metadata": {},
   "outputs": [
    {
     "name": "stdout",
     "output_type": "stream",
     "text": [
      "[0 1 0 1 0 1 0 1 0 1 0 1 0 1 0 1 0 1 0 1 0 1 0 1 0 1 0 1 0 1 0 1 0 1 0 1 0\n",
      " 1 0 1 0 1 0 1 0 1 0 1 0 1 0 1 0 1 0 1 0 1 0 1 0 1 0 1 0 1 0 1 0 1 0 1 0 1\n",
      " 0 1 0 1 0 1 0 1 0 1 0 1 0 1 0 1 0 1 0 1 0 1 0 1 0 1 0 1 0 1 0 1 0 1 0 1 0\n",
      " 1 0 1 0 1 0 1 0 1 0 1 0 1 0 1 0 1 0 1 0 1 0 1 0 1 0 1 0 1 0 1 0 1 0 1 0 1\n",
      " 0 1 0 1 0 1 0 1 0 1 0 1 0 1 0 1 0 1 0 1 0 1 0 1 0 1 0 1 0 1 0 1 0 1 0 1 0\n",
      " 1 0 1 0 1 0 1 0 1 0 1 0 1 0 1]\n"
     ]
    }
   ],
   "source": [
    "Y=np.remainder(range(200),2) \n",
    "print(Y) #Y的0和1個數一樣多"
   ]
  },
  {
   "cell_type": "code",
   "execution_count": 45,
   "metadata": {},
   "outputs": [],
   "source": [
    "# 跑一百次測試:\n",
    "clf=svm.SVC()\n",
    "accuracies=[]\n",
    "for i in range(100): \n",
    "    X=np.random.rand(200,2) # X取亂數\n",
    "    kf=model_selection.KFold(len(Y),shuffle=True) # Leave-one-out cross-validation\n",
    "    sc=model_selection.cross_val_score(clf,X,Y,cv=kf)\n",
    "    accuracies.append(sc.mean())"
   ]
  },
  {
   "cell_type": "code",
   "execution_count": 47,
   "metadata": {},
   "outputs": [
    {
     "name": "stdout",
     "output_type": "stream",
     "text": [
      "[0.53, 0.43, 0.515, 0.445, 0.525, 0.495, 0.585, 0.57, 0.45, 0.375, 0.48, 0.505, 0.345, 0.555, 0.56, 0.5, 0.4, 0.42, 0.475, 0.4, 0.515, 0.425, 0.515, 0.475, 0.485, 0.5, 0.525, 0.49, 0.465, 0.49, 0.51, 0.295, 0.59, 0.505, 0.505, 0.575, 0.45, 0.46, 0.51, 0.565, 0.515, 0.425, 0.495, 0.585, 0.49, 0.485, 0.435, 0.495, 0.53, 0.34, 0.47, 0.445, 0.54, 0.535, 0.585, 0.55, 0.545, 0.575, 0.475, 0.4, 0.37, 0.545, 0.365, 0.38, 0.51, 0.44, 0.49, 0.455, 0.525, 0.55, 0.525, 0.57, 0.575, 0.57, 0.375, 0.415, 0.605, 0.575, 0.52, 0.495, 0.39, 0.385, 0.495, 0.37, 0.37, 0.545, 0.475, 0.3, 0.485, 0.37, 0.545, 0.485, 0.515, 0.48, 0.52, 0.505, 0.46, 0.54, 0.565, 0.515]\n"
     ]
    },
    {
     "data": {
      "text/plain": [
       "Ttest_1sampResult(statistic=-2.1750863059461554, pvalue=0.032004708697937465)"
      ]
     },
     "execution_count": 47,
     "metadata": {},
     "output_type": "execute_result"
    }
   ],
   "source": [
    "# Please do your statistical tests here:\n",
    "print(accuracies)\n",
    "\n",
    "import scipy.stats\n",
    "scipy.stats.ttest_1samp(accuracies, 0.5)"
   ]
  },
  {
   "cell_type": "code",
   "execution_count": 60,
   "metadata": {},
   "outputs": [],
   "source": [
    "# 跑一百次測試:\n",
    "clf=svm.SVC()\n",
    "accuracies=[]\n",
    "for i in range(100): \n",
    "    X=np.random.rand(200,2) # X取亂數\n",
    "    kf=model_selection.KFold(len(Y),shuffle=True) # Leave-one-out cross-validation\n",
    "    sc=model_selection.cross_val_score(clf,X,Y,cv=kf)\n",
    "    accuracies.append(sc.mean())"
   ]
  },
  {
   "cell_type": "code",
   "execution_count": 61,
   "metadata": {},
   "outputs": [
    {
     "name": "stdout",
     "output_type": "stream",
     "text": [
      "[0.48, 0.53, 0.52, 0.605, 0.345, 0.575, 0.54, 0.47, 0.595, 0.57, 0.62, 0.245, 0.45, 0.335, 0.505, 0.445, 0.49, 0.5, 0.51, 0.55, 0.52, 0.48, 0.405, 0.53, 0.515, 0.52, 0.505, 0.615, 0.61, 0.44, 0.525, 0.545, 0.555, 0.3, 0.515, 0.385, 0.36, 0.485, 0.54, 0.54, 0.415, 0.59, 0.57, 0.28, 0.495, 0.535, 0.34, 0.415, 0.425, 0.51, 0.44, 0.41, 0.54, 0.53, 0.43, 0.575, 0.485, 0.535, 0.38, 0.395, 0.455, 0.425, 0.385, 0.425, 0.475, 0.33, 0.515, 0.49, 0.52, 0.525, 0.56, 0.45, 0.43, 0.48, 0.53, 0.575, 0.59, 0.545, 0.48, 0.455, 0.46, 0.505, 0.45, 0.5, 0.28, 0.49, 0.57, 0.56, 0.55, 0.43, 0.39, 0.53, 0.495, 0.555, 0.505, 0.53, 0.5, 0.59, 0.46, 0.455]\n"
     ]
    },
    {
     "data": {
      "text/plain": [
       "Ttest_1sampResult(statistic=-1.8842622722294575, pvalue=0.06246333535121167)"
      ]
     },
     "execution_count": 61,
     "metadata": {},
     "output_type": "execute_result"
    }
   ],
   "source": [
    "print(accuracies)\n",
    "\n",
    "import scipy.stats\n",
    "scipy.stats.ttest_1samp(accuracies, 0.5)"
   ]
  },
  {
   "cell_type": "markdown",
   "metadata": {},
   "source": [
    "Please write your discussion here, if any.\n",
    "\n",
    "從以上單一樣本t檢定的來看，結果可能達顯著，拒絕虛無假設，代表accuracies和0.5有差異，也可能不拒絕虛無假設，代表accuracies和0.5沒有差異。\n",
    "\n",
    "這主要是由於X為隨機取樣，數值間彼此距離不固定，假若出現範圍重疊的情形，會導致SVM在執行時劃分上出現較大的錯誤，使得accuracies跟0.5有差異。"
   ]
  },
  {
   "cell_type": "markdown",
   "metadata": {},
   "source": [
    "### Please submit your HTML notebook before next Monday (12/6)."
   ]
  },
  {
   "cell_type": "markdown",
   "metadata": {},
   "source": [
    "<h1><font color=red>下週一(12/6)沒有直播! 課程錄影在NTU COOL上面!</font></h1>"
   ]
  }
 ],
 "metadata": {
  "kernelspec": {
   "display_name": "Python 3",
   "language": "python",
   "name": "python3"
  },
  "language_info": {
   "codemirror_mode": {
    "name": "ipython",
    "version": 3
   },
   "file_extension": ".py",
   "mimetype": "text/x-python",
   "name": "python",
   "nbconvert_exporter": "python",
   "pygments_lexer": "ipython3",
   "version": "3.8.3"
  }
 },
 "nbformat": 4,
 "nbformat_minor": 2
}
