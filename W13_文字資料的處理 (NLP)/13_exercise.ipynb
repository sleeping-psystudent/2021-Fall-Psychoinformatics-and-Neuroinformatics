{
 "cells": [
  {
   "cell_type": "markdown",
   "metadata": {},
   "source": [
    "# Psychoinformatics - Week 13 (Exercises)\n",
    "李采蓉 b08207042@ntu.edu.tw"
   ]
  },
  {
   "cell_type": "markdown",
   "metadata": {},
   "source": [
    "## 1 進一步研究 Regular Expressions (4 points)\n",
    "用urllib+re在<a href=\"https://www.csie.ntu.edu.tw/members/teacher.php\">臺大資工系網頁</a>搜集教師emails."
   ]
  },
  {
   "cell_type": "code",
   "execution_count": 142,
   "metadata": {},
   "outputs": [],
   "source": [
    "from urllib.request import urlopen\n",
    "import re\n",
    "from html.parser import HTMLParser\n",
    "import html.parser as htmlparser"
   ]
  },
  {
   "cell_type": "code",
   "execution_count": 127,
   "metadata": {},
   "outputs": [],
   "source": [
    "url = urlopen(\"https://www.csie.ntu.edu.tw/members/teacher.php\")\n",
    "con = url.read().decode('utf-8')\n",
    "\n",
    "con_s = re.compile(r'\\|(\\d{2,3})')\n",
    "org_email = list(con_s.findall(con))"
   ]
  },
  {
   "cell_type": "code",
   "execution_count": 144,
   "metadata": {},
   "outputs": [
    {
     "name": "stderr",
     "output_type": "stream",
     "text": [
      "<ipython-input-144-3d20225742e5>:5: DeprecationWarning: The unescape method is deprecated and will be removed in 3.5, use html.unescape() instead.\n",
      "  email.append(parser.unescape(ch))\n"
     ]
    }
   ],
   "source": [
    "email = []\n",
    "parser = htmlparser.HTMLParser()\n",
    "for num in org_email:\n",
    "    ch = '&#'+num\n",
    "    email.append(parser.unescape(ch))\n",
    "email = list(reversed(email))"
   ]
  },
  {
   "cell_type": "code",
   "execution_count": 162,
   "metadata": {},
   "outputs": [
    {
     "data": {
      "text/plain": [
       "['kmchung@iis.sinica.edu.tw',\n",
       " 'lslee@cc.ee.ntu.edu.tw',\n",
       " 'acpang@csie.ntu.edu.tw',\n",
       " 'flai@csie.ntu.edu.tw',\n",
       " 'ma@cs.ucdavis.edu',\n",
       " 'andrewcyao@tsinghua.edu.cn',\n",
       " 'wjl@cmlab.csie.ntu.edu.tw',\n",
       " 'sdlin@csie.ntu.edu.tw',\n",
       " 'yanwenming.ntu@gmail.com',\n",
       " 'schen@isupergrid',\n",
       " 'liao@csie.ntu.edu.tw',\n",
       " 'hil@csie.ntu.edu.tw',\n",
       " 'wcchen@csie.ntu.edu.tw',\n",
       " 'cshih@csie.ntu.edu.tw',\n",
       " 'hungsh@csie.ntu.edu.tw',\n",
       " 'weichao.chen@gmail.com',\n",
       " 'bywang@iis.sinica.edu.tw',\n",
       " 'shihwei@csie.ntu.edu.tw',\n",
       " 'hsuwc@csie.ntu.edu.tw',\n",
       " 'jlee@csie.ntu.edu.tw',\n",
       " 'ccf@csie.ntu.edu.tw',\n",
       " 'jackiekan@csie.ntu.edu.tw',\n",
       " 'janeliu@iis.sinica.edu.tw',\n",
       " 'cwlin@csie.ntu.edu.tw',\n",
       " 'yjhsu@csie.ntu.edu.tw',\n",
       " 'hchsiao@csie.ntu.edu.tw',\n",
       " 'hhchen@csie.ntu.edu.tw',\n",
       " 'mku@csie.ntu.edu.tw',\n",
       " 'cyliou@csie.ntu.edu.tw',\n",
       " 'ming@csie.ntu.edu.tw',\n",
       " 'wyma@microsoft.com',\n",
       " 'rfchang@csie.ntu.edu.tw',\n",
       " 'yenhuan.li@csie.ntu.edu.tw',\n",
       " 'stchen@csie.ntu.edu.tw',\n",
       " 'chc@olemap.com',\n",
       " 'pangfeng@csie.ntu.edu.tw',\n",
       " 'hsu@iis.sinica.edu.tw',\n",
       " 'fc_lin@csie.ntu.edu.tw',\n",
       " 'hsinmu@csie.ntu.edu.tw',\n",
       " 'jang@csie.ntu.edu.tw',\n",
       " 'dtlee@iis.sinica.edu.tw',\n",
       " 'lichen@csie.ntu.edu.tw',\n",
       " 'mikechen@csie.ntu.edu.tw',\n",
       " 'htlin@csie.ntu.edu.tw',\n",
       " 'klin@uci.edu',\n",
       " 'jfanc@csie.ntu.edu.tw',\n",
       " 'ktw@csie.ntu.edu.tw',\n",
       " 'mslee@csie.ntu.edu.tw',\n",
       " 'yvchen@csie.ntu.edu.tw',\n",
       " 'tshsu@iis.sinica.edu.tw',\n",
       " 'yjoyang@csie.ntu.edu.tw',\n",
       " 'cwhsueh@csie.ntu.edu.tw',\n",
       " 'bobwang@csie.ntu.edu.tw',\n",
       " 'hsiang@csie.ntu.edu.tw',\n",
       " 'kmchao@csie.ntu.edu.tw',\n",
       " 'jau@csie.ntu.edu.tw',\n",
       " 'lyuu@csie.ntu.edu.tw',\n",
       " 'lung-pan.cheng@csie.ntu.edu.tw',\n",
       " 'robin@ntu.edu.tw',\n",
       " 'fuh@csie.ntu.edu.tw',\n",
       " 'cyy@csie.ntu.edu.tw',\n",
       " 'yangc@csie.ntu.edu.tw',\n",
       " 'whsu@ntu.edu.tw',\n",
       " 'pjcheng@csie.ntu.edu.tw',\n",
       " 'plin@csie.ntu.edu.tw',\n",
       " 'cjlin@csie.ntu.edu.tw',\n",
       " 'hchu@csie.ntu.edu.tw',\n",
       " 'ghchen@csie.ntu.edu.tw',\n",
       " 'hung@csie.ntu.edu.tw',\n",
       " 'chusong@csie.ntu.edu.tw',\n",
       " 'yjtseng@csie.ntu.edu.tw',\n",
       " 'tonytan@csie.ntu.edu.tw',\n",
       " 'hon@microsoft.com',\n",
       " 'contact@csie.ntu.edu.tw']"
      ]
     },
     "execution_count": 162,
     "metadata": {},
     "output_type": "execute_result"
    }
   ],
   "source": [
    "result = []\n",
    "sen = ''\n",
    "for i in range(len(email)):\n",
    "    if email[i] == ' ':\n",
    "        continue\n",
    "    if sen[-3:] == '.cn' or sen[-3:] == '.tw' or sen[-4:] == '.com' or sen[-4:] == 'grid' or sen[-7:] == 'uci.edu' or sen[-11:] == 'ucdavis.edu':\n",
    "        result.append(sen)\n",
    "        sen = email[i]\n",
    "    else:\n",
    "        sen += email[i]\n",
    "list(set(result))"
   ]
  },
  {
   "cell_type": "markdown",
   "metadata": {},
   "source": [
    "## 2 進一步研究Topic Modeling (4 points)\n",
    "對2.5 Topic Modeling的範例程式文本先過濾掉<a href=https://www.geeksforgeeks.org/removing-stop-words-nltk-python/>stop words</a>, 使5個主題能夠更加明確"
   ]
  },
  {
   "cell_type": "markdown",
   "metadata": {},
   "source": [
    "#### 使用nltk"
   ]
  },
  {
   "cell_type": "code",
   "execution_count": 68,
   "metadata": {},
   "outputs": [],
   "source": [
    "# Please write your codes here\n",
    "import gensim\n",
    "import gensim.downloader as api\n",
    "import nltk\n",
    "from nltk.corpus import stopwords\n",
    "from stop_words import get_stop_words"
   ]
  },
  {
   "cell_type": "code",
   "execution_count": 88,
   "metadata": {},
   "outputs": [
    {
     "name": "stdout",
     "output_type": "stream",
     "text": [
      "Dictionary(253854 unique tokens: ['a', 'abacus', 'abilities', 'ability', 'able']...)\n"
     ]
    }
   ],
   "source": [
    "corpus=api.load('text8')\n",
    "dictionary=gensim.corpora.Dictionary(corpus)\n",
    "print(dictionary)"
   ]
  },
  {
   "cell_type": "code",
   "execution_count": 89,
   "metadata": {},
   "outputs": [
    {
     "name": "stderr",
     "output_type": "stream",
     "text": [
      "[nltk_data] Downloading package stopwords to\n",
      "[nltk_data]     C:\\Users\\s9501\\AppData\\Roaming\\nltk_data...\n",
      "[nltk_data]   Package stopwords is already up-to-date!\n"
     ]
    }
   ],
   "source": [
    "nltk.download('stopwords')\n",
    "sw = stopwords.words('english')"
   ]
  },
  {
   "cell_type": "code",
   "execution_count": 90,
   "metadata": {},
   "outputs": [],
   "source": [
    "sw.append('zero')\n",
    "sw.append('one')\n",
    "sw.append('two')\n",
    "sw.append('three')\n",
    "sw.append('four')\n",
    "sw.append('five')\n",
    "sw.append('six')\n",
    "sw.append('seven')\n",
    "sw.append('eight')\n",
    "sw.append('nine')\n",
    "sw.append('also')\n",
    "sw.append('would')\n",
    "sw.append('may')\n",
    "sw.append('b')"
   ]
  },
  {
   "cell_type": "code",
   "execution_count": 91,
   "metadata": {},
   "outputs": [],
   "source": [
    "del_ids = []\n",
    "for k, v in dictionary.items():\n",
    "    for stwords in sw:\n",
    "        if v == stwords:\n",
    "            del_ids.append(k)"
   ]
  },
  {
   "cell_type": "code",
   "execution_count": 92,
   "metadata": {},
   "outputs": [],
   "source": [
    "dictionary.filter_tokens(bad_ids=del_ids)"
   ]
  },
  {
   "cell_type": "code",
   "execution_count": 93,
   "metadata": {},
   "outputs": [],
   "source": [
    "corpus2 = [dictionary.doc2bow(word) for word in corpus]"
   ]
  },
  {
   "cell_type": "code",
   "execution_count": 94,
   "metadata": {
    "scrolled": true
   },
   "outputs": [
    {
     "data": {
      "text/plain": [
       "[(0,\n",
       "  '0.004*\"first\" + 0.003*\"many\" + 0.003*\"american\" + 0.002*\"new\" + 0.002*\"used\"'),\n",
       " (1,\n",
       "  '0.003*\"first\" + 0.003*\"american\" + 0.003*\"many\" + 0.002*\"see\" + 0.002*\"time\"'),\n",
       " (2,\n",
       "  '0.003*\"first\" + 0.003*\"new\" + 0.002*\"many\" + 0.002*\"see\" + 0.002*\"world\"'),\n",
       " (3,\n",
       "  '0.003*\"new\" + 0.003*\"first\" + 0.003*\"used\" + 0.002*\"time\" + 0.002*\"many\"'),\n",
       " (4,\n",
       "  '0.003*\"first\" + 0.003*\"used\" + 0.003*\"time\" + 0.002*\"many\" + 0.002*\"american\"')]"
      ]
     },
     "execution_count": 94,
     "metadata": {},
     "output_type": "execute_result"
    }
   ],
   "source": [
    "model=gensim.models.ldamodel.LdaModel(corpus2, num_topics=5, id2word=dictionary)\n",
    "model.print_topics(num_words=5)"
   ]
  },
  {
   "cell_type": "code",
   "execution_count": null,
   "metadata": {},
   "outputs": [],
   "source": []
  }
 ],
 "metadata": {
  "kernelspec": {
   "display_name": "Python 3",
   "language": "python",
   "name": "python3"
  },
  "language_info": {
   "codemirror_mode": {
    "name": "ipython",
    "version": 3
   },
   "file_extension": ".py",
   "mimetype": "text/x-python",
   "name": "python",
   "nbconvert_exporter": "python",
   "pygments_lexer": "ipython3",
   "version": "3.8.3"
  }
 },
 "nbformat": 4,
 "nbformat_minor": 2
}
