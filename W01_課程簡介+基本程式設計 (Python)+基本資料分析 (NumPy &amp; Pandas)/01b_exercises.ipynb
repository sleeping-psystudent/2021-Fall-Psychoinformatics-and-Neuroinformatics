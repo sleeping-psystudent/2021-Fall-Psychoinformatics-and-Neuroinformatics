{
 "cells": [
  {
   "cell_type": "markdown",
   "metadata": {},
   "source": [
    "## Psychoinformatics - Week 1b (Exercises)\n",
    "by 李采蓉 b08207042@ntu.edu.tw"
   ]
  },
  {
   "cell_type": "markdown",
   "metadata": {},
   "source": [
    "## 1 Validating the findings about power poses (8 points)\n",
    "Do <a href=\"https://www.youtube.com/watch?v=Ks-_Mh1QhMc\">power poses</a> really work?\n",
    "Let's analyze the <a href=\"http://hpc.psy.ntu.edu.tw/info/01/keller2017.csv\">data</a> from:\n",
    "\n",
    "Keller, V. N., Johnson, D. J., & Harder, J. A. (2017). <a href=\"http://hpc.psy.ntu.edu.tw/info/01/KellerEtal2017.pdf\">\n",
    "Meeting your inner super (wo)man: are power poses effective when taught?</a> Comprehensive Results in Social Psychology, 2(1), 106-122.\n",
    "\n",
    "where<br>\n",
    "\n",
    "4 experimental conditions were AC (Aware-Constrictive), AE (Aware-Expansive), UC (Unaware-Constrictive), & UE (Unaware-Expansive)<br>\n",
    "<br>\n",
    "and<br>\n",
    "<br>\n",
    "3 dependent measures were body expansiveness, performance (in a job interview), & hireability scored by 4 independent raters."
   ]
  },
  {
   "cell_type": "markdown",
   "metadata": {},
   "source": [
    "Please construct 3 pandas dataframes df1, and df2, and df3 where <br><br>\n",
    "<b>df1</b>, derived from df, has only 13 columns of interest (cond, expansiveness1-4, performance1-4, hire1-4) and no missing values (2 points) ;<br><br>\n",
    "<b>df2</b>, derived from df1, has 4 columns that average expansiveness1-4 into \"expansiveness\", \"performance1-4\" into \"performance\", & hire1-4 into \"hire\" (df1 & df2 should have the same number of rows) (2 points) ; <br><br>\n",
    "<b>df3</b>, derived from df2, calculates the means of each dependent variable in each condition (2 points): <br>\n",
    "<img src=\"http://hpc.psy.ntu.edu.tw/info/01/01b_table.png\" width=30%>\n",
    "\n",
    "Finally, run three two-way ANOVAs to see if there is any statistically significant result for each dependent measure (2 point). See <a href=\"https://www.statology.org/two-way-anova-python/\">this page</a> for an example. "
   ]
  },
  {
   "cell_type": "code",
   "execution_count": 8,
   "metadata": {},
   "outputs": [],
   "source": [
    "import pandas as pd\n",
    "import numpy as np\n",
    "df=pd.read_csv(\"https://ceiba.ntu.edu.tw/course/4671ea/content/keller2017.csv\")"
   ]
  },
  {
   "cell_type": "markdown",
   "metadata": {},
   "source": [
    "# df1, df2 and df3"
   ]
  },
  {
   "cell_type": "code",
   "execution_count": 12,
   "metadata": {},
   "outputs": [
    {
     "name": "stdout",
     "output_type": "stream",
     "text": [
      "(194, 13) (194, 4)\n",
      "      expansiveness  performance      hire\n",
      "cond                                      \n",
      "AC         3.586957     3.967391  1.853261\n",
      "AE         3.607955     3.460227  1.982955\n",
      "UC         3.435185     3.717593  1.916667\n",
      "UE         3.685000     3.765000  1.940000\n"
     ]
    }
   ],
   "source": [
    "# Please write your codes here:\n",
    "df1= df[['cond','expansiveness_1','expansiveness_2','expansiveness_3',\n",
    "        'expansiveness_4','performance_1','performance_2','performance_3',\n",
    "        'performance_4','hire_1','hire_2','hire_3','hire_4']]\n",
    "df1 = df1.dropna(axis = 0)\n",
    "\n",
    "d2_1 = df1[['expansiveness_1','expansiveness_2','expansiveness_3',\n",
    "        'expansiveness_4']].mean(axis=1)\n",
    "d2_2 = df1[['performance_1','performance_2','performance_3',\n",
    "        'performance_4']].mean(axis=1)\n",
    "d2_3 = df1[['hire_1','hire_2','hire_3','hire_4']].mean(axis=1)\n",
    "df2= pd.concat([df1[['cond']],d2_1, d2_2, d2_3], axis =1)\n",
    "df2.columns = columns=['cond','expansiveness','performance','hire']\n",
    "\n",
    "df3= df2.groupby('cond').mean()\n",
    "\n",
    "print(df1.shape,df2.shape)\n",
    "print(df3)"
   ]
  },
  {
   "cell_type": "markdown",
   "metadata": {},
   "source": [
    "# Two way ANOVA"
   ]
  },
  {
   "cell_type": "code",
   "execution_count": 21,
   "metadata": {},
   "outputs": [],
   "source": [
    "#資料整理\n",
    "\n",
    "##設立空列\n",
    "df2[\"Aware_Unaware\"] = \"\"\n",
    "df2[\"Expansive_Constrictive\"] = \"\"\n",
    "\n",
    "i = 0\n",
    "for item in df2['cond']:\n",
    "    \n",
    "    ## Aware or Unaware?\n",
    "    if item[0] == 'A':\n",
    "        df2.iloc[i,4] = \"Aware\"\n",
    "    else:\n",
    "        df2.iloc[i,4] = \"Unaware\"  \n",
    "        \n",
    "    ## Expansive or Constrictive?\n",
    "    if item[1] == 'C':\n",
    "        df2.iloc[i,5] = \"Constrictive\"\n",
    "    else:\n",
    "        df2.iloc[i,5] = \"Expansive\"\n",
    "        \n",
    "    i+=1"
   ]
  },
  {
   "cell_type": "code",
   "execution_count": 22,
   "metadata": {},
   "outputs": [],
   "source": [
    "import statsmodels.api as sm\n",
    "from statsmodels.formula.api import ols"
   ]
  },
  {
   "cell_type": "markdown",
   "metadata": {},
   "source": [
    "## expansiveness"
   ]
  },
  {
   "cell_type": "code",
   "execution_count": 23,
   "metadata": {},
   "outputs": [
    {
     "data": {
      "text/html": [
       "<div>\n",
       "<style scoped>\n",
       "    .dataframe tbody tr th:only-of-type {\n",
       "        vertical-align: middle;\n",
       "    }\n",
       "\n",
       "    .dataframe tbody tr th {\n",
       "        vertical-align: top;\n",
       "    }\n",
       "\n",
       "    .dataframe thead th {\n",
       "        text-align: right;\n",
       "    }\n",
       "</style>\n",
       "<table border=\"1\" class=\"dataframe\">\n",
       "  <thead>\n",
       "    <tr style=\"text-align: right;\">\n",
       "      <th></th>\n",
       "      <th>sum_sq</th>\n",
       "      <th>df</th>\n",
       "      <th>F</th>\n",
       "      <th>PR(&gt;F)</th>\n",
       "    </tr>\n",
       "  </thead>\n",
       "  <tbody>\n",
       "    <tr>\n",
       "      <th>C(Aware_Unaware)</th>\n",
       "      <td>0.080182</td>\n",
       "      <td>1.0</td>\n",
       "      <td>0.074288</td>\n",
       "      <td>0.785489</td>\n",
       "    </tr>\n",
       "    <tr>\n",
       "      <th>C(Expansive_Constrictive)</th>\n",
       "      <td>0.999186</td>\n",
       "      <td>1.0</td>\n",
       "      <td>0.925730</td>\n",
       "      <td>0.337198</td>\n",
       "    </tr>\n",
       "    <tr>\n",
       "      <th>C(Aware_Unaware):C(Expansive_Constrictive)</th>\n",
       "      <td>0.630923</td>\n",
       "      <td>1.0</td>\n",
       "      <td>0.584541</td>\n",
       "      <td>0.445487</td>\n",
       "    </tr>\n",
       "    <tr>\n",
       "      <th>Residual</th>\n",
       "      <td>205.076288</td>\n",
       "      <td>190.0</td>\n",
       "      <td>NaN</td>\n",
       "      <td>NaN</td>\n",
       "    </tr>\n",
       "  </tbody>\n",
       "</table>\n",
       "</div>"
      ],
      "text/plain": [
       "                                                sum_sq     df         F  \\\n",
       "C(Aware_Unaware)                              0.080182    1.0  0.074288   \n",
       "C(Expansive_Constrictive)                     0.999186    1.0  0.925730   \n",
       "C(Aware_Unaware):C(Expansive_Constrictive)    0.630923    1.0  0.584541   \n",
       "Residual                                    205.076288  190.0       NaN   \n",
       "\n",
       "                                              PR(>F)  \n",
       "C(Aware_Unaware)                            0.785489  \n",
       "C(Expansive_Constrictive)                   0.337198  \n",
       "C(Aware_Unaware):C(Expansive_Constrictive)  0.445487  \n",
       "Residual                                         NaN  "
      ]
     },
     "execution_count": 23,
     "metadata": {},
     "output_type": "execute_result"
    }
   ],
   "source": [
    "model = ols('expansiveness ~ C(Aware_Unaware) + C(Expansive_Constrictive) + C(Aware_Unaware):C(Expansive_Constrictive)', data=df2).fit()\n",
    "sm.stats.anova_lm(model, typ=2)"
   ]
  },
  {
   "cell_type": "markdown",
   "metadata": {},
   "source": [
    "## performance"
   ]
  },
  {
   "cell_type": "code",
   "execution_count": 24,
   "metadata": {},
   "outputs": [
    {
     "data": {
      "text/html": [
       "<div>\n",
       "<style scoped>\n",
       "    .dataframe tbody tr th:only-of-type {\n",
       "        vertical-align: middle;\n",
       "    }\n",
       "\n",
       "    .dataframe tbody tr th {\n",
       "        vertical-align: top;\n",
       "    }\n",
       "\n",
       "    .dataframe thead th {\n",
       "        text-align: right;\n",
       "    }\n",
       "</style>\n",
       "<table border=\"1\" class=\"dataframe\">\n",
       "  <thead>\n",
       "    <tr style=\"text-align: right;\">\n",
       "      <th></th>\n",
       "      <th>sum_sq</th>\n",
       "      <th>df</th>\n",
       "      <th>F</th>\n",
       "      <th>PR(&gt;F)</th>\n",
       "    </tr>\n",
       "  </thead>\n",
       "  <tbody>\n",
       "    <tr>\n",
       "      <th>C(Aware_Unaware)</th>\n",
       "      <td>0.017850</td>\n",
       "      <td>1.0</td>\n",
       "      <td>0.012643</td>\n",
       "      <td>0.910593</td>\n",
       "    </tr>\n",
       "    <tr>\n",
       "      <th>C(Expansive_Constrictive)</th>\n",
       "      <td>2.136746</td>\n",
       "      <td>1.0</td>\n",
       "      <td>1.513440</td>\n",
       "      <td>0.220136</td>\n",
       "    </tr>\n",
       "    <tr>\n",
       "      <th>C(Aware_Unaware):C(Expansive_Constrictive)</th>\n",
       "      <td>3.706089</td>\n",
       "      <td>1.0</td>\n",
       "      <td>2.624992</td>\n",
       "      <td>0.106852</td>\n",
       "    </tr>\n",
       "    <tr>\n",
       "      <th>Residual</th>\n",
       "      <td>268.251022</td>\n",
       "      <td>190.0</td>\n",
       "      <td>NaN</td>\n",
       "      <td>NaN</td>\n",
       "    </tr>\n",
       "  </tbody>\n",
       "</table>\n",
       "</div>"
      ],
      "text/plain": [
       "                                                sum_sq     df         F  \\\n",
       "C(Aware_Unaware)                              0.017850    1.0  0.012643   \n",
       "C(Expansive_Constrictive)                     2.136746    1.0  1.513440   \n",
       "C(Aware_Unaware):C(Expansive_Constrictive)    3.706089    1.0  2.624992   \n",
       "Residual                                    268.251022  190.0       NaN   \n",
       "\n",
       "                                              PR(>F)  \n",
       "C(Aware_Unaware)                            0.910593  \n",
       "C(Expansive_Constrictive)                   0.220136  \n",
       "C(Aware_Unaware):C(Expansive_Constrictive)  0.106852  \n",
       "Residual                                         NaN  "
      ]
     },
     "execution_count": 24,
     "metadata": {},
     "output_type": "execute_result"
    }
   ],
   "source": [
    "model = ols('performance ~ C(Aware_Unaware) + C(Expansive_Constrictive) + C(Aware_Unaware):C(Expansive_Constrictive)', data=df2).fit()\n",
    "sm.stats.anova_lm(model, typ=2)"
   ]
  },
  {
   "cell_type": "markdown",
   "metadata": {},
   "source": [
    "## hire"
   ]
  },
  {
   "cell_type": "code",
   "execution_count": 25,
   "metadata": {},
   "outputs": [
    {
     "data": {
      "text/html": [
       "<div>\n",
       "<style scoped>\n",
       "    .dataframe tbody tr th:only-of-type {\n",
       "        vertical-align: middle;\n",
       "    }\n",
       "\n",
       "    .dataframe tbody tr th {\n",
       "        vertical-align: top;\n",
       "    }\n",
       "\n",
       "    .dataframe thead th {\n",
       "        text-align: right;\n",
       "    }\n",
       "</style>\n",
       "<table border=\"1\" class=\"dataframe\">\n",
       "  <thead>\n",
       "    <tr style=\"text-align: right;\">\n",
       "      <th></th>\n",
       "      <th>sum_sq</th>\n",
       "      <th>df</th>\n",
       "      <th>F</th>\n",
       "      <th>PR(&gt;F)</th>\n",
       "    </tr>\n",
       "  </thead>\n",
       "  <tbody>\n",
       "    <tr>\n",
       "      <th>C(Aware_Unaware)</th>\n",
       "      <td>0.006727</td>\n",
       "      <td>1.0</td>\n",
       "      <td>0.024257</td>\n",
       "      <td>0.876399</td>\n",
       "    </tr>\n",
       "    <tr>\n",
       "      <th>C(Expansive_Constrictive)</th>\n",
       "      <td>0.256088</td>\n",
       "      <td>1.0</td>\n",
       "      <td>0.923421</td>\n",
       "      <td>0.337800</td>\n",
       "    </tr>\n",
       "    <tr>\n",
       "      <th>C(Aware_Unaware):C(Expansive_Constrictive)</th>\n",
       "      <td>0.136320</td>\n",
       "      <td>1.0</td>\n",
       "      <td>0.491554</td>\n",
       "      <td>0.484093</td>\n",
       "    </tr>\n",
       "    <tr>\n",
       "      <th>Residual</th>\n",
       "      <td>52.691727</td>\n",
       "      <td>190.0</td>\n",
       "      <td>NaN</td>\n",
       "      <td>NaN</td>\n",
       "    </tr>\n",
       "  </tbody>\n",
       "</table>\n",
       "</div>"
      ],
      "text/plain": [
       "                                               sum_sq     df         F  \\\n",
       "C(Aware_Unaware)                             0.006727    1.0  0.024257   \n",
       "C(Expansive_Constrictive)                    0.256088    1.0  0.923421   \n",
       "C(Aware_Unaware):C(Expansive_Constrictive)   0.136320    1.0  0.491554   \n",
       "Residual                                    52.691727  190.0       NaN   \n",
       "\n",
       "                                              PR(>F)  \n",
       "C(Aware_Unaware)                            0.876399  \n",
       "C(Expansive_Constrictive)                   0.337800  \n",
       "C(Aware_Unaware):C(Expansive_Constrictive)  0.484093  \n",
       "Residual                                         NaN  "
      ]
     },
     "execution_count": 25,
     "metadata": {},
     "output_type": "execute_result"
    }
   ],
   "source": [
    "model = ols('hire ~ C(Aware_Unaware) + C(Expansive_Constrictive) + C(Aware_Unaware):C(Expansive_Constrictive)', data=df2).fit()\n",
    "sm.stats.anova_lm(model, typ=2)"
   ]
  },
  {
   "cell_type": "markdown",
   "metadata": {},
   "source": [
    "### Please export this file to HTML and submit it to NTU COOL before next Monday (2021/10/4)."
   ]
  }
 ],
 "metadata": {
  "kernelspec": {
   "display_name": "Python 3",
   "language": "python",
   "name": "python3"
  },
  "language_info": {
   "codemirror_mode": {
    "name": "ipython",
    "version": 3
   },
   "file_extension": ".py",
   "mimetype": "text/x-python",
   "name": "python",
   "nbconvert_exporter": "python",
   "pygments_lexer": "ipython3",
   "version": "3.8.3"
  }
 },
 "nbformat": 4,
 "nbformat_minor": 2
}
